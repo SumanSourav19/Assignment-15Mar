{
 "cells": [
  {
   "cell_type": "markdown",
   "id": "c4a0f616-1a84-4ef1-94e1-2718bfcf9130",
   "metadata": {},
   "source": [
    "Q1) Explain the following with example:\n",
    "\n",
    "a) Artificial Intelligence\n",
    "b) Machine Learning\n",
    "c) Deep Learning"
   ]
  },
  {
   "cell_type": "markdown",
   "id": "3a2527f5-a0b7-4cf6-92aa-c1d88a575018",
   "metadata": {},
   "source": [
    "Ans) Artificial intelligence, commonly referred to as AI, is the process of imparting data, information, and human intelligence to machines. The main goal of Artificial Intelligence is to develop self-reliant machines that can think and act like humans. These machines can mimic human behavior and perform tasks by learning and problem-solving. Most of the AI systems simulate natural intelligence to solve complex problems. \n",
    "\n",
    "Examples:- Self-driving, Robot, Alexa\n",
    "\n",
    "Machine learning is a discipline of computer science that uses computer algorithms and analytics to build predictive models that can solve business problems. \n",
    "\n",
    "Examples:- Amazon.in, Netflix\n",
    "\n",
    "\n",
    "Deep learning is a subset of machine learning that deals with algorithms inspired by the structure and function of the human brain. Deep learning algorithms can work with an enormous amount of both structured and unstructured data. Deep learning’s core concept lies in artificial neural networks, which enable machines to make decisions.\n",
    "\n",
    "Examples:- Object Detection, Chatbot, Image Recognition \n",
    "\n"
   ]
  },
  {
   "cell_type": "markdown",
   "id": "78f16570-8430-4270-aa88-014818eda894",
   "metadata": {},
   "source": [
    "Q2) What is supervised learning?List some examples of supervised learning."
   ]
  },
  {
   "cell_type": "markdown",
   "id": "8bcbeec3-11c2-484c-904a-72ca1de62f6f",
   "metadata": {},
   "source": [
    "Ans) Supervised learning is the types of machine learning in which machines are trained using well \"labelled\" training data, and on basis of that data, machines predict the output. The labelled data means some input data is already tagged with the correct output. In supervised learning, the training data provided to the machines work as the supervisor that teaches the machines to predict the output correctly.\n",
    "\n",
    "Examples:- Risk Assessment, Image classification, Fraud Detection, spam filtering, etc."
   ]
  },
  {
   "cell_type": "markdown",
   "id": "d8891b33-0554-496d-a382-cbb8e5a4e2d2",
   "metadata": {},
   "source": [
    "Q3) What is unsupervised learning? List some examples of unsupervised learning."
   ]
  },
  {
   "cell_type": "markdown",
   "id": "6d734abb-2478-4384-b242-f0c9cfda11e0",
   "metadata": {},
   "source": [
    "Ans) Unsupervised learning, also known as unsupervised machine learning, uses machine learning algorithms to analyze and cluster unlabeled datasets. These algorithms discover hidden patterns or data groupings without the need for human intervention. Its ability to discover similarities and differences in information make it the ideal solution for exploratory data analysis, cross-selling strategies, customer segmentation, and image recognition.\n",
    "\n",
    "Examples:- Recommendation Systems, Products Segmentation, Data Set labeling, Customer Segmentation, and Similarity Detection.\n"
   ]
  },
  {
   "cell_type": "markdown",
   "id": "39fe7025-4540-424c-9098-f36ed0839f33",
   "metadata": {},
   "source": [
    "Q4) What is the difference between AI, ML, DL, and DS?"
   ]
  },
  {
   "cell_type": "markdown",
   "id": "5bb2e436-b97c-4e42-a700-3f57b339ad80",
   "metadata": {},
   "source": [
    "Ans) 🔹Artificial Intelligence (AI) enables machines to think by understanding, learning from the data, and taking decisions based on patterns hidden in the data or make inferences that would otherwise be very difficult for humans to make manually. The end goal of using ML or DL is to create an AI application or machine as smart as humans.\n",
    "\n",
    "🔹Machine Learning (ML) is a subset of AI; it provides us statistical tools/techniques like Supervised, Unsupervised, and Reinforcement learning to explore and analyze the data.\n",
    "\n",
    "🔹Deep Learning (DL) is further a subset of ML, and the main idea behind it is to make machines learn by mimicking the human brain. Here, we create a multi neural network architecture with the help of different techniques like ANN, CNN, and RNN.\n",
    "\n",
    "🔹Data Science (DS) is basically drawing insights from structured and unstructured data either by using ML or DL or without these techniques. We can even use different visualization tools, statistics, and probability to gain these insights."
   ]
  },
  {
   "cell_type": "markdown",
   "id": "c3bebe09-dab0-4d9d-9e30-753bcb90f619",
   "metadata": {},
   "source": [
    "Q5- What are the main differences between supervised, unsupervised, and semi-supervised learning?"
   ]
  },
  {
   "cell_type": "markdown",
   "id": "ac448020-f13c-43b8-ace4-29fc6021348c",
   "metadata": {},
   "source": [
    "Ans) The biggest difference between supervised and unsupervised machine learning is: Supervised machine learning algorithms are trained on datasets that include labels added by a machine learning engineer or data scientist that guide the algorithm to understand which features are important to the problem at hand. This is a very costly process, especially when dealing with large volumes of data.Unsupervised machine learning algorithms, on the other hand, are trained on unlabeled data and must determine feature importance on their own based on inherent patterns in the data, The most basic disadvantage of any Unsupervised Learning is that it’s application spectrum is limited.\n",
    "\n",
    "To counter these disadvantages, the concept of Semi-Supervised Learning was introduced. In this type of learning, the algorithm is trained upon a combination of labeled and unlabeled data. Typically, this combination will contain a very small amount of labeled data and a very large amount of unlabeled data. This is useful for a few reasons. First, the process of labeling massive amounts of data for supervised learning is often prohibitively time-consuming and expensive. What’s more, too much labeling can impose human biases on the model. That means including lots of unlabeled data during the training process actually tends to improve the accuracy of the final model while reducing the time and cost spent building it."
   ]
  },
  {
   "cell_type": "markdown",
   "id": "3748e6fa-3141-463f-b8d8-e1781c594a6b",
   "metadata": {},
   "source": [
    "Q6) What is train, test and validation split? Explain the importance of each term."
   ]
  },
  {
   "cell_type": "markdown",
   "id": "98278b2e-468b-403a-b415-d604845ae68a",
   "metadata": {},
   "source": [
    "Ans)The Training Set:-\n",
    "\n",
    "It is the set of data that is used to train and make the model learn the hidden features/patterns in the data.\n",
    "In each epoch, the same training data is fed to the neural network architecture repeatedly, and the model continues to learn the features of the data.The training set should have a diversified set of inputs so that the model is trained in all scenarios and can predict any unseen data sample that may appear in the future.\n",
    "\n",
    "The Validation Set:-\n",
    "\n",
    "The validation set is a set of data, separate from the training set, that is used to validate our model performance during training.This validation process gives information that helps us tune the model’s hyperparameters and configurations accordingly. It is like a critic telling us whether the training is moving in the right direction or not.The model is trained on the training set, and, simultaneously, the model evaluation is performed on the validation set after every epoch.The main idea of splitting the dataset into a validation set is to prevent our model from overfitting i.e., the model becomes really good at classifying the samples in the training set but cannot generalize and make accurate classifications on the data it has not seen before.\n",
    "\n",
    "The Test Set:-\n",
    "\n",
    "The test set is a separate set of data used to test the model after completing the training.\n",
    "It provides an unbiased final model performance metric in terms of accuracy, precision, etc."
   ]
  },
  {
   "cell_type": "markdown",
   "id": "0c0c610d-b5b8-4b0e-8f19-2a55fe6b87c0",
   "metadata": {},
   "source": [
    "Q7) How can unsupervised learning be used in anomaly detection?"
   ]
  },
  {
   "cell_type": "markdown",
   "id": "2c660906-a0c7-4423-bbb6-0e98bf2342c8",
   "metadata": {},
   "source": [
    "Ans) Anomaly detection is a process of finding those rare items, data points, events, or observations that make suspicions by being different from the rest data points or observations. Anomaly detection is also known as outlier detection.\n",
    "\n",
    "Generally, anomalous data is related to some kind of problems such as bank fraud, medical problems, malfunctioning equipment, etc.\n",
    "\n",
    "Unsupervised Anomaly detection does not require labeled training data. These techniques are based on two assumptions, which are:-\n",
    "\n",
    "a) Most of the network connections are from normal traffic, and only a small amount of data is abnormal.\n",
    "b) Malicious traffic is statistically different from normal traffic.\n",
    "\n",
    "On the basis of these assumptions, data clusters of similar data points that occur frequently are assumed to be normal traffic, and those data groups that are infrequent are considered abnormal or malicious.\n",
    "\n",
    "Some of the common unsupervised anomaly detection algorithms are self-organizing maps (SOM), K-means, C-means, expectation-maximization meta-algorithm (EM), adaptive resonance theory (ART), and one-class support vector machines. SOM, or Self-organizing map, is a popular technique that aims to reduce the dimension of data visualization.\n",
    "\n",
    "Anomaly detection can effectively help in catching the fraud, discovering strange activity in large and complex Big Data sets. This can prove to be useful in areas such as banking security, natural sciences, medicine, and marketing, which are prone to malicious activities. With machine learning, an organization can intensify search and increase the effectiveness of its digital business initiatives."
   ]
  },
  {
   "cell_type": "markdown",
   "id": "6ff75e9d-f000-4028-873a-16d46d944f6f",
   "metadata": {},
   "source": [
    "Q8) List down some commonly used supervised learning algorithms and unsupervised learning\n",
    "algorithms."
   ]
  },
  {
   "cell_type": "markdown",
   "id": "0d5e2d96-7b19-4063-b5ec-b73011154efc",
   "metadata": {},
   "source": [
    "Ans) The most commonly used Supervised Learning algorithms are decision tree, logistic regression, linear regression, support vector machine. The most commonly used Unsupervised Learning algorithms are k-means clustering, hierarchical clustering, and apriori algorithm."
   ]
  },
  {
   "cell_type": "code",
   "execution_count": null,
   "id": "5808886e-3533-4f22-9948-5d40f0a01434",
   "metadata": {},
   "outputs": [],
   "source": []
  }
 ],
 "metadata": {
  "kernelspec": {
   "display_name": "Python 3 (ipykernel)",
   "language": "python",
   "name": "python3"
  },
  "language_info": {
   "codemirror_mode": {
    "name": "ipython",
    "version": 3
   },
   "file_extension": ".py",
   "mimetype": "text/x-python",
   "name": "python",
   "nbconvert_exporter": "python",
   "pygments_lexer": "ipython3",
   "version": "3.10.8"
  }
 },
 "nbformat": 4,
 "nbformat_minor": 5
}
